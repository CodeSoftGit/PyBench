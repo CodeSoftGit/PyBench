{
  "nbformat": 4,
  "nbformat_minor": 0,
  "metadata": {
    "colab": {
      "provenance": []
    },
    "kernelspec": {
      "name": "python3",
      "display_name": "Python 3"
    },
    "language_info": {
      "name": "python"
    }
  },
  "cells": [
    {
      "cell_type": "markdown",
      "source": [
        "Initial Setup"
      ],
      "metadata": {
        "id": "gMSIGxJI5N58"
      }
    },
    {
      "cell_type": "code",
      "execution_count": 8,
      "metadata": {
        "id": "FmMKfwL65Kxw"
      },
      "outputs": [],
      "source": [
        "import threading\n",
        "import time\n",
        "import sys\n",
        "from datetime import datetime\n",
        "num = 0"
      ]
    },
    {
      "cell_type": "markdown",
      "source": [
        "Benchmark"
      ],
      "metadata": {
        "id": "4Ywir6id5z0G"
      }
    },
    {
      "cell_type": "code",
      "source": [
        "print(f\"Python {sys.version}\\nPython version can affect results\\nStarting benchmark...\")\n",
        "start_time = datetime.now()\n",
        "while num < 1000000000 + 1:\n",
        "    num += 1\n",
        "end_time = datetime.now()\n",
        "delta = end_time - start_time\n",
        "print(f\"Benchmark complete!\\nScore: {delta.total_seconds()} (lower is better)\")"
      ],
      "metadata": {
        "id": "YOeyCIaD5yK4"
      },
      "execution_count": null,
      "outputs": []
    }
  ]
}